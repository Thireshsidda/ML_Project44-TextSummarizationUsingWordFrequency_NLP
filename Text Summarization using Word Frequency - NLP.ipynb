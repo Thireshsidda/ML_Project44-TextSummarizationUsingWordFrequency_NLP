{
 "cells": [
  {
   "cell_type": "code",
   "execution_count": 7,
   "metadata": {},
   "outputs": [],
   "source": [
    "## input text article\n",
    "article_text=\"Just what is agility in the context of software engineering work? Ivar Jacobson [Jac02a] provides a useful discussion: Agility  has become today’s buzzword when describing a modern software process. Everyone is agile. An agile team is a nimble team able to appropriately respond to changes. Change is what software development is very much about. Changes in the software being built, changes to the team members, changes because of new technology, changes of all kinds that may have an impact on the product they build or the project that creates the product. Support for changes should be built-in everything we do in software, something we embrace because it is the heart and soul of software. An agile team recognizes that software is developed by individuals working in teams and that the skills of these people, their ability to collaborate is at the core for the success of the project.In Jacobson’s view, the pervasiveness of change is the primary driver for agility. Software engineers must be quick on their feet if they are to accommodate the rapid changes that Jacobson describes.  But agility is more than an effective response to change. It also encompasses the philosophy espoused in the manifesto noted at the beginning of this chapter. It encourages team structures and attitudes that make communication (among team members, between technologists and business people, between software engineers and their managers) more facile. It emphasizes rapid delivery of operational software and deemphasizes the importance of intermediate work products (not always a good thing); it adopts the customer as a part of the development team and works to eliminate the “us and them” attitude that continues to pervade many software projects; it recognizes that planning in an uncertain world has its limits and that a project plan must be ﬂ exible.  Agility can be applied to any software process. However, to accomplish this, it is essential that the process be designed in a way that allows the project team to adapt tasks and to streamline them, conduct planning in a way that understands the ﬂ uidity of an agile development approach, eliminate all but the most essential work products and keep them lean, and emphasize an incremental delivery strategy that gets working software to the customer as rapidly as feasible for the product type and operational environment. \""
   ]
  },
  {
   "cell_type": "markdown",
   "metadata": {},
   "source": [
    "## Import Modules"
   ]
  },
  {
   "cell_type": "code",
   "execution_count": 8,
   "metadata": {},
   "outputs": [],
   "source": [
    "import re\n",
    "import nltk"
   ]
  },
  {
   "cell_type": "markdown",
   "metadata": {},
   "source": [
    "## Data Preprocessing"
   ]
  },
  {
   "cell_type": "code",
   "execution_count": 18,
   "metadata": {},
   "outputs": [
    {
     "data": {
      "text/plain": [
       "'just what is agility in the context of software engineering work? ivar jacobson [jac02a] provides a useful discussion: agility  has become today’s buzzword when describing a modern software process. everyone is agile. an agile team is a nimble team able to appropriately respond to changes. change is what software development is very much about. changes in the software being built, changes to the team members, changes because of new technology, changes of all kinds that may have an impact on the product they build or the project that creates the product. support for changes should be built-in everything we do in software, something we embrace because it is the heart and soul of software. an agile team recognizes that software is developed by individuals working in teams and that the skills of these people, their ability to collaborate is at the core for the success of the project.in jacobson’s view, the pervasiveness of change is the primary driver for agility. software engineers must be quick on their feet if they are to accommodate the rapid changes that jacobson describes.  but agility is more than an effective response to change. it also encompasses the philosophy espoused in the manifesto noted at the beginning of this chapter. it encourages team structures and attitudes that make communication (among team members, between technologists and business people, between software engineers and their managers) more facile. it emphasizes rapid delivery of operational software and deemphasizes the importance of intermediate work products (not always a good thing); it adopts the customer as a part of the development team and works to eliminate the “us and them” attitude that continues to pervade many software projects; it recognizes that planning in an uncertain world has its limits and that a project plan must be ﬂ exible.  agility can be applied to any software process. however, to accomplish this, it is essential that the process be designed in a way that allows the project team to adapt tasks and to streamline them, conduct planning in a way that understands the ﬂ uidity of an agile development approach, eliminate all but the most essential work products and keep them lean, and emphasize an incremental delivery strategy that gets working software to the customer as rapidly as feasible for the product type and operational environment. '"
      ]
     },
     "execution_count": 18,
     "metadata": {},
     "output_type": "execute_result"
    }
   ],
   "source": [
    "article_text = article_text.lower()\n",
    "article_text"
   ]
  },
  {
   "cell_type": "code",
   "execution_count": 19,
   "metadata": {},
   "outputs": [
    {
     "data": {
      "text/plain": [
       "'just what is agility in the context of software engineering work ivar jacobson jac a provides a useful discussion agility has become today s buzzword when describing a modern software process everyone is agile an agile team is a nimble team able to appropriately respond to changes change is what software development is very much about changes in the software being built changes to the team members changes because of new technology changes of all kinds that may have an impact on the product they build or the project that creates the product support for changes should be built in everything we do in software something we embrace because it is the heart and soul of software an agile team recognizes that software is developed by individuals working in teams and that the skills of these people their ability to collaborate is at the core for the success of the project in jacobson s view the pervasiveness of change is the primary driver for agility software engineers must be quick on their feet if they are to accommodate the rapid changes that jacobson describes but agility is more than an effective response to change it also encompasses the philosophy espoused in the manifesto noted at the beginning of this chapter it encourages team structures and attitudes that make communication among team members between technologists and business people between software engineers and their managers more facile it emphasizes rapid delivery of operational software and deemphasizes the importance of intermediate work products not always a good thing it adopts the customer as a part of the development team and works to eliminate the us and them attitude that continues to pervade many software projects it recognizes that planning in an uncertain world has its limits and that a project plan must be exible agility can be applied to any software process however to accomplish this it is essential that the process be designed in a way that allows the project team to adapt tasks and to streamline them conduct planning in a way that understands the uidity of an agile development approach eliminate all but the most essential work products and keep them lean and emphasize an incremental delivery strategy that gets working software to the customer as rapidly as feasible for the product type and operational environment '"
      ]
     },
     "execution_count": 19,
     "metadata": {},
     "output_type": "execute_result"
    }
   ],
   "source": [
    "# remove spaces, punctuations and numbers\n",
    "clean_text = re.sub('[^a-zA-Z]', ' ', article_text)\n",
    "clean_text = re.sub('\\s+', ' ', clean_text)\n",
    "clean_text"
   ]
  },
  {
   "cell_type": "code",
   "execution_count": 20,
   "metadata": {},
   "outputs": [
    {
     "data": {
      "text/plain": [
       "['just what is agility in the context of software engineering work?',\n",
       " 'ivar jacobson [jac02a] provides a useful discussion: agility  has become today’s buzzword when describing a modern software process.',\n",
       " 'everyone is agile.',\n",
       " 'an agile team is a nimble team able to appropriately respond to changes.',\n",
       " 'change is what software development is very much about.',\n",
       " 'changes in the software being built, changes to the team members, changes because of new technology, changes of all kinds that may have an impact on the product they build or the project that creates the product.',\n",
       " 'support for changes should be built-in everything we do in software, something we embrace because it is the heart and soul of software.',\n",
       " 'an agile team recognizes that software is developed by individuals working in teams and that the skills of these people, their ability to collaborate is at the core for the success of the project.in jacobson’s view, the pervasiveness of change is the primary driver for agility.',\n",
       " 'software engineers must be quick on their feet if they are to accommodate the rapid changes that jacobson describes.',\n",
       " 'but agility is more than an effective response to change.',\n",
       " 'it also encompasses the philosophy espoused in the manifesto noted at the beginning of this chapter.',\n",
       " 'it encourages team structures and attitudes that make communication (among team members, between technologists and business people, between software engineers and their managers) more facile.',\n",
       " 'it emphasizes rapid delivery of operational software and deemphasizes the importance of intermediate work products (not always a good thing); it adopts the customer as a part of the development team and works to eliminate the “us and them” attitude that continues to pervade many software projects; it recognizes that planning in an uncertain world has its limits and that a project plan must be ﬂ exible.',\n",
       " 'agility can be applied to any software process.',\n",
       " 'however, to accomplish this, it is essential that the process be designed in a way that allows the project team to adapt tasks and to streamline them, conduct planning in a way that understands the ﬂ uidity of an agile development approach, eliminate all but the most essential work products and keep them lean, and emphasize an incremental delivery strategy that gets working software to the customer as rapidly as feasible for the product type and operational environment.']"
      ]
     },
     "execution_count": 20,
     "metadata": {},
     "output_type": "execute_result"
    }
   ],
   "source": [
    "# split into sentence list\n",
    "sentence_list = nltk.sent_tokenize(article_text)\n",
    "sentence_list"
   ]
  },
  {
   "cell_type": "code",
   "execution_count": 21,
   "metadata": {},
   "outputs": [],
   "source": [
    "## run this cell once to download stopwords\n",
    "# import nltk\n",
    "# nltk.download('stopwords')"
   ]
  },
  {
   "cell_type": "markdown",
   "metadata": {},
   "source": [
    "## Word Frequencies"
   ]
  },
  {
   "cell_type": "code",
   "execution_count": 22,
   "metadata": {},
   "outputs": [],
   "source": [
    "stopwords = nltk.corpus.stopwords.words('english')\n",
    "\n",
    "word_frequencies = {}\n",
    "for word in nltk.word_tokenize(clean_text):\n",
    "    if word not in stopwords:\n",
    "        if word not in word_frequencies:\n",
    "            word_frequencies[word] = 1\n",
    "        else:\n",
    "            word_frequencies[word] += 1"
   ]
  },
  {
   "cell_type": "code",
   "execution_count": 23,
   "metadata": {},
   "outputs": [],
   "source": [
    "maximum_frequency = max(word_frequencies.values())\n",
    "\n",
    "for word in word_frequencies:\n",
    "    word_frequencies[word] = word_frequencies[word] / maximum_frequency"
   ]
  },
  {
   "cell_type": "markdown",
   "metadata": {},
   "source": [
    "## Calculate Sentence Scores"
   ]
  },
  {
   "cell_type": "code",
   "execution_count": 24,
   "metadata": {},
   "outputs": [],
   "source": [
    "sentence_scores = {}\n",
    "\n",
    "for sentence in sentence_list:\n",
    "    for word in nltk.word_tokenize(sentence):\n",
    "        if word in word_frequencies and len(sentence.split(' ')) < 30:\n",
    "            if sentence not in sentence_scores:\n",
    "                sentence_scores[sentence] = word_frequencies[word]\n",
    "            else:\n",
    "                sentence_scores[sentence] += word_frequencies[word]"
   ]
  },
  {
   "cell_type": "code",
   "execution_count": 25,
   "metadata": {},
   "outputs": [
    {
     "data": {
      "text/plain": [
       "{'agility': 0.38461538461538464,\n",
       " 'context': 0.07692307692307693,\n",
       " 'software': 1.0,\n",
       " 'engineering': 0.07692307692307693,\n",
       " 'work': 0.23076923076923078,\n",
       " 'ivar': 0.07692307692307693,\n",
       " 'jacobson': 0.23076923076923078,\n",
       " 'jac': 0.07692307692307693,\n",
       " 'provides': 0.07692307692307693,\n",
       " 'useful': 0.07692307692307693,\n",
       " 'discussion': 0.07692307692307693,\n",
       " 'become': 0.07692307692307693,\n",
       " 'today': 0.07692307692307693,\n",
       " 'buzzword': 0.07692307692307693,\n",
       " 'describing': 0.07692307692307693,\n",
       " 'modern': 0.07692307692307693,\n",
       " 'process': 0.23076923076923078,\n",
       " 'everyone': 0.07692307692307693,\n",
       " 'agile': 0.3076923076923077,\n",
       " 'team': 0.6153846153846154,\n",
       " 'nimble': 0.07692307692307693,\n",
       " 'able': 0.07692307692307693,\n",
       " 'appropriately': 0.07692307692307693,\n",
       " 'respond': 0.07692307692307693,\n",
       " 'changes': 0.5384615384615384,\n",
       " 'change': 0.23076923076923078,\n",
       " 'development': 0.23076923076923078,\n",
       " 'much': 0.07692307692307693,\n",
       " 'built': 0.15384615384615385,\n",
       " 'members': 0.15384615384615385,\n",
       " 'new': 0.07692307692307693,\n",
       " 'technology': 0.07692307692307693,\n",
       " 'kinds': 0.07692307692307693,\n",
       " 'may': 0.07692307692307693,\n",
       " 'impact': 0.07692307692307693,\n",
       " 'product': 0.23076923076923078,\n",
       " 'build': 0.07692307692307693,\n",
       " 'project': 0.3076923076923077,\n",
       " 'creates': 0.07692307692307693,\n",
       " 'support': 0.07692307692307693,\n",
       " 'everything': 0.07692307692307693,\n",
       " 'something': 0.07692307692307693,\n",
       " 'embrace': 0.07692307692307693,\n",
       " 'heart': 0.07692307692307693,\n",
       " 'soul': 0.07692307692307693,\n",
       " 'recognizes': 0.15384615384615385,\n",
       " 'developed': 0.07692307692307693,\n",
       " 'individuals': 0.07692307692307693,\n",
       " 'working': 0.15384615384615385,\n",
       " 'teams': 0.07692307692307693,\n",
       " 'skills': 0.07692307692307693,\n",
       " 'people': 0.15384615384615385,\n",
       " 'ability': 0.07692307692307693,\n",
       " 'collaborate': 0.07692307692307693,\n",
       " 'core': 0.07692307692307693,\n",
       " 'success': 0.07692307692307693,\n",
       " 'view': 0.07692307692307693,\n",
       " 'pervasiveness': 0.07692307692307693,\n",
       " 'primary': 0.07692307692307693,\n",
       " 'driver': 0.07692307692307693,\n",
       " 'engineers': 0.15384615384615385,\n",
       " 'must': 0.15384615384615385,\n",
       " 'quick': 0.07692307692307693,\n",
       " 'feet': 0.07692307692307693,\n",
       " 'accommodate': 0.07692307692307693,\n",
       " 'rapid': 0.15384615384615385,\n",
       " 'describes': 0.07692307692307693,\n",
       " 'effective': 0.07692307692307693,\n",
       " 'response': 0.07692307692307693,\n",
       " 'also': 0.07692307692307693,\n",
       " 'encompasses': 0.07692307692307693,\n",
       " 'philosophy': 0.07692307692307693,\n",
       " 'espoused': 0.07692307692307693,\n",
       " 'manifesto': 0.07692307692307693,\n",
       " 'noted': 0.07692307692307693,\n",
       " 'beginning': 0.07692307692307693,\n",
       " 'chapter': 0.07692307692307693,\n",
       " 'encourages': 0.07692307692307693,\n",
       " 'structures': 0.07692307692307693,\n",
       " 'attitudes': 0.07692307692307693,\n",
       " 'make': 0.07692307692307693,\n",
       " 'communication': 0.07692307692307693,\n",
       " 'among': 0.07692307692307693,\n",
       " 'technologists': 0.07692307692307693,\n",
       " 'business': 0.07692307692307693,\n",
       " 'managers': 0.07692307692307693,\n",
       " 'facile': 0.07692307692307693,\n",
       " 'emphasizes': 0.07692307692307693,\n",
       " 'delivery': 0.15384615384615385,\n",
       " 'operational': 0.15384615384615385,\n",
       " 'deemphasizes': 0.07692307692307693,\n",
       " 'importance': 0.07692307692307693,\n",
       " 'intermediate': 0.07692307692307693,\n",
       " 'products': 0.15384615384615385,\n",
       " 'always': 0.07692307692307693,\n",
       " 'good': 0.07692307692307693,\n",
       " 'thing': 0.07692307692307693,\n",
       " 'adopts': 0.07692307692307693,\n",
       " 'customer': 0.15384615384615385,\n",
       " 'part': 0.07692307692307693,\n",
       " 'works': 0.07692307692307693,\n",
       " 'eliminate': 0.15384615384615385,\n",
       " 'us': 0.07692307692307693,\n",
       " 'attitude': 0.07692307692307693,\n",
       " 'continues': 0.07692307692307693,\n",
       " 'pervade': 0.07692307692307693,\n",
       " 'many': 0.07692307692307693,\n",
       " 'projects': 0.07692307692307693,\n",
       " 'planning': 0.15384615384615385,\n",
       " 'uncertain': 0.07692307692307693,\n",
       " 'world': 0.07692307692307693,\n",
       " 'limits': 0.07692307692307693,\n",
       " 'plan': 0.07692307692307693,\n",
       " 'exible': 0.07692307692307693,\n",
       " 'applied': 0.07692307692307693,\n",
       " 'however': 0.07692307692307693,\n",
       " 'accomplish': 0.07692307692307693,\n",
       " 'essential': 0.15384615384615385,\n",
       " 'designed': 0.07692307692307693,\n",
       " 'way': 0.15384615384615385,\n",
       " 'allows': 0.07692307692307693,\n",
       " 'adapt': 0.07692307692307693,\n",
       " 'tasks': 0.07692307692307693,\n",
       " 'streamline': 0.07692307692307693,\n",
       " 'conduct': 0.07692307692307693,\n",
       " 'understands': 0.07692307692307693,\n",
       " 'uidity': 0.07692307692307693,\n",
       " 'approach': 0.07692307692307693,\n",
       " 'keep': 0.07692307692307693,\n",
       " 'lean': 0.07692307692307693,\n",
       " 'emphasize': 0.07692307692307693,\n",
       " 'incremental': 0.07692307692307693,\n",
       " 'strategy': 0.07692307692307693,\n",
       " 'gets': 0.07692307692307693,\n",
       " 'rapidly': 0.07692307692307693,\n",
       " 'feasible': 0.07692307692307693,\n",
       " 'type': 0.07692307692307693,\n",
       " 'environment': 0.07692307692307693}"
      ]
     },
     "execution_count": 25,
     "metadata": {},
     "output_type": "execute_result"
    }
   ],
   "source": [
    "word_frequencies"
   ]
  },
  {
   "cell_type": "code",
   "execution_count": 26,
   "metadata": {},
   "outputs": [
    {
     "data": {
      "text/plain": [
       "{'just what is agility in the context of software engineering work?': 1.7692307692307694,\n",
       " 'ivar jacobson [jac02a] provides a useful discussion: agility  has become today’s buzzword when describing a modern software process.': 2.5384615384615383,\n",
       " 'everyone is agile.': 0.38461538461538464,\n",
       " 'an agile team is a nimble team able to appropriately respond to changes.': 2.3846153846153846,\n",
       " 'change is what software development is very much about.': 1.5384615384615385,\n",
       " 'support for changes should be built-in everything we do in software, something we embrace because it is the heart and soul of software.': 3.0,\n",
       " 'software engineers must be quick on their feet if they are to accommodate the rapid changes that jacobson describes.': 2.5384615384615383,\n",
       " 'but agility is more than an effective response to change.': 0.7692307692307694,\n",
       " 'it also encompasses the philosophy espoused in the manifesto noted at the beginning of this chapter.': 0.6153846153846154,\n",
       " 'it encourages team structures and attitudes that make communication (among team members, between technologists and business people, between software engineers and their managers) more facile.': 3.4615384615384612,\n",
       " 'agility can be applied to any software process.': 1.6923076923076925}"
      ]
     },
     "execution_count": 26,
     "metadata": {},
     "output_type": "execute_result"
    }
   ],
   "source": [
    "sentence_scores"
   ]
  },
  {
   "cell_type": "markdown",
   "metadata": {},
   "source": [
    "## Text Summarization"
   ]
  },
  {
   "cell_type": "code",
   "execution_count": 29,
   "metadata": {},
   "outputs": [
    {
     "name": "stdout",
     "output_type": "stream",
     "text": [
      "it encourages team structures and attitudes that make communication (among team members, between technologists and business people, between software engineers and their managers) more facile. support for changes should be built-in everything we do in software, something we embrace because it is the heart and soul of software. ivar jacobson [jac02a] provides a useful discussion: agility  has become today’s buzzword when describing a modern software process. software engineers must be quick on their feet if they are to accommodate the rapid changes that jacobson describes. an agile team is a nimble team able to appropriately respond to changes.\n"
     ]
    }
   ],
   "source": [
    "# get top 5 sentences\n",
    "import heapq\n",
    "summary = heapq.nlargest(5, sentence_scores, key=sentence_scores.get)\n",
    "\n",
    "print(\" \".join(summary))"
   ]
  }
 ],
 "metadata": {
  "kernelspec": {
   "display_name": "Python 3",
   "language": "python",
   "name": "python3"
  },
  "language_info": {
   "codemirror_mode": {
    "name": "ipython",
    "version": 3
   },
   "file_extension": ".py",
   "mimetype": "text/x-python",
   "name": "python",
   "nbconvert_exporter": "python",
   "pygments_lexer": "ipython3",
   "version": "3.8.8"
  }
 },
 "nbformat": 4,
 "nbformat_minor": 4
}
